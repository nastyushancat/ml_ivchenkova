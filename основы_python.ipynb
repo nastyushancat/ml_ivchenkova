{
  "cells": [
    {
      "cell_type": "markdown",
      "metadata": {
        "id": "M-DGa20PaHnu"
      },
      "source": [
        "Задача 1\n",
        "\n",
        "Написать функцию на вход которой подается строка, состоящая из латинских букв.\n",
        "Функция должна вернуть количество гласных букв (a, e, i, o, u) в этой строке. Написать тесты для кода"
      ]
    },
    {
      "cell_type": "code",
      "execution_count": 7,
      "metadata": {
        "id": "XvX8X_JJ6PCb"
      },
      "outputs": [
        {
          "name": "stdout",
          "output_type": "stream",
          "text": [
            "3\n",
            "10\n",
            "0\n"
          ]
        }
      ],
      "source": [
        "def count_vowels(str_def):\n",
        "    str_vowels = \"aeiou\"\n",
        "    c = 0\n",
        "    for char in str_def:\n",
        "        if char.lower() in str_vowels:\n",
        "            c += 1\n",
        "    return c\n",
        "\n",
        "print(count_vowels(\"Hello, World!\"))\n",
        "print(count_vowels(\"eeeeeeeeee\")) \n",
        "print(count_vowels(\"nnnnnnnnnn\"))"
      ]
    },
    {
      "cell_type": "markdown",
      "metadata": {
        "id": "t2ClV_Y0bbr6"
      },
      "source": [
        "# Задача 2\n",
        "Написать функцию на вход, которой подается строка. Функция должна вернуть true, если\n",
        "каждый символ в строке встречается только 1 раз, иначе должна вернуть false. Написать тесты для кода"
      ]
    },
    {
      "cell_type": "code",
      "execution_count": 12,
      "metadata": {
        "id": "FppbECao6VIz"
      },
      "outputs": [
        {
          "name": "stdout",
          "output_type": "stream",
          "text": [
            "False\n",
            "True\n",
            "False\n",
            "False\n",
            "True\n"
          ]
        }
      ],
      "source": [
        "def check_once(str_def):\n",
        "    chars_str = {}\n",
        "    for char in str_def:\n",
        "        if char in chars_str:\n",
        "            return False\n",
        "        chars_str[char] = 1\n",
        "    return True\n",
        "\n",
        "print(check_once(\"apppleeee\"))\n",
        "print(check_once(\"abcdefg\"))\n",
        "print(check_once(\"eee\"))\n",
        "print(check_once(\"1111111\"))\n",
        "print(check_once(\"123\"))"
      ]
    },
    {
      "cell_type": "markdown",
      "metadata": {
        "id": "udRiIK1cdt6E"
      },
      "source": [
        "# Задача 3\n",
        "Написать функцию, которая принимает положительное число и возвращает количество\n",
        "бит равных 1 в этом числе. Написать тесты для кода"
      ]
    },
    {
      "cell_type": "code",
      "execution_count": 13,
      "metadata": {
        "id": "6tkfDJRz6dp_"
      },
      "outputs": [
        {
          "name": "stdout",
          "output_type": "stream",
          "text": [
            "0\n",
            "1\n",
            "1\n",
            "2\n",
            "1\n",
            "2\n",
            "2\n",
            "3\n"
          ]
        }
      ],
      "source": [
        "def count_bit(num):\n",
        "    bin_num = bin(num)[2:]\n",
        "    c = 0\n",
        "    for digit in bin_num:\n",
        "        if digit == '1':\n",
        "            c += 1\n",
        "    return c\n",
        "\n",
        "print(count_bit(0))\n",
        "print(count_bit(1))\n",
        "print(count_bit(2))\n",
        "print(count_bit(3))\n",
        "print(count_bit(4))\n",
        "print(count_bit(5))\n",
        "print(count_bit(6))\n",
        "print(count_bit(7))"
      ]
    },
    {
      "cell_type": "markdown",
      "metadata": {
        "id": "26dDUz-Ae17N"
      },
      "source": [
        "# Задача 4\n",
        "Написать функцию, которая принимает положительное число. Функция должна вернуть то,\n",
        "сколько раз необходимо перемножать цифры числа или результат перемножения, чтобы\n",
        "получилось число состоящее из одной цифры.\n",
        "Например, для входного числа:\n",
        "· 39 функция должна вернуть 3, так как 3*9=27 => 2*7=14 => 1*4=4\n",
        "· 4 функция должна вернуть 0, так как число уже состоит из одной цифры\n",
        "· 999 функция должна вернуть 4, так как 9*9*9=729 => 7*2*9=126 => 1*2*6=12 =>\n",
        "1*2=2. Написать тесты для кода"
      ]
    },
    {
      "cell_type": "code",
      "execution_count": 14,
      "metadata": {
        "id": "BH1A_Mgi6i4G"
      },
      "outputs": [
        {
          "name": "stdout",
          "output_type": "stream",
          "text": [
            "3\n",
            "4\n",
            "0\n",
            "0\n",
            "2\n"
          ]
        }
      ],
      "source": [
        "def magic(n):\n",
        "    c = 0\n",
        "    res = n\n",
        "    while res//10 != 0:\n",
        "        p = 1\n",
        "        for digit in str(res):\n",
        "            p *= int(digit)\n",
        "        res = p\n",
        "        c += 1\n",
        "    return c\n",
        "\n",
        "print(magic(39))\n",
        "print(magic(999))\n",
        "print(magic(0))\n",
        "print(magic(3))\n",
        "print(magic(48))\n"
      ]
    },
    {
      "cell_type": "markdown",
      "metadata": {
        "id": "0nS-kIa8g8vd"
      },
      "source": [
        "# Задача 5\n",
        "Написать функцию, которая принимает два целочисленных вектора одинаковой длины и\n",
        "возвращает среднеквадратическое отклонение двух векторов. Написать тесты для кода"
      ]
    },
    {
      "cell_type": "code",
      "execution_count": 15,
      "metadata": {
        "id": "8iphx4LM6xbx"
      },
      "outputs": [
        {
          "name": "stdout",
          "output_type": "stream",
          "text": [
            "0.4472135954999579\n",
            "2.6076809620810595\n",
            "1.632993161855452\n"
          ]
        }
      ],
      "source": [
        "import math\n",
        "def mse(pred, true):\n",
        "    if len(pred) != len(true):\n",
        "        raise ValueError(\"Векторы должны быть одинаковой длины\")\n",
        "    sum_of_squares = 0\n",
        "    for i in range(len(pred)):\n",
        "        d = pred[i] - true[i]\n",
        "        sum_of_squares += d**2\n",
        "    mse_value = math.sqrt(sum_of_squares / len(pred))\n",
        "    return mse_value\n",
        "\n",
        "print(mse([1, 2, 3, 4, 5],[1, 2, 3, 5, 5]))\n",
        "print(mse([2, 3, 4, 7, 9],[5, 5, 5, 5, 5]))\n",
        "print(mse([1,2,3],[3,2,1]))\n"
      ]
    },
    {
      "cell_type": "markdown",
      "metadata": {
        "id": "vpIPKL439zkw"
      },
      "source": [
        "# Задача 6\n",
        "Написать функцию, принимающая целое положительное число. Функция должна вернуть\n",
        "строку вида “(n1**p1)(n2**p2)…(nk**pk)” представляющая разложение числа на простые\n",
        "множители (если pi == 1, то выводить только ni).\n",
        "Например, для числа 86240 функция должна вернуть “(2**5)(5)(7**2)(11)”. Написать тесты для кода"
      ]
    },
    {
      "cell_type": "code",
      "execution_count": 18,
      "metadata": {
        "id": "pFebmcZk94Jw"
      },
      "outputs": [
        {
          "name": "stdout",
          "output_type": "stream",
          "text": [
            "(2**5)(5)(7**2)(11)\n",
            "\n",
            "(2**3)\n",
            "(5)(11)\n",
            "(5)\n"
          ]
        }
      ],
      "source": [
        "def prime_mult(n):\n",
        "    mults = []\n",
        "    d = 2\n",
        "    while n > 1:\n",
        "        degree = 0\n",
        "        while n % d == 0:\n",
        "            degree += 1\n",
        "            n //= d\n",
        "        if degree > 0:\n",
        "            mults.append((d, degree))\n",
        "        d += 1\n",
        "    result = ''\n",
        "\n",
        "    for mul, degree in mults:\n",
        "        if degree == 1:\n",
        "            result += f'({mul})'\n",
        "        else:\n",
        "            result += f'({mul}**{degree})'\n",
        "    return result\n",
        "\n",
        "print(prime_mult(86240))\n",
        "print(prime_mult(1))\n",
        "print(prime_mult(8))\n",
        "print(prime_mult(55))\n",
        "print(prime_mult(5))"
      ]
    },
    {
      "cell_type": "markdown",
      "metadata": {
        "id": "ps2s0BudX7A2"
      },
      "source": [
        "# Задача 7\n",
        "Написать функцию, принимающая целое число n, задающее количество кубиков. Функция\n",
        "должна определить, можно ли из данного кол-ва кубиков построить пирамиду, то есть\n",
        "можно ли представить число n как 1^2+2^2+3^2+…+k^2. Если можно, то функция должна\n",
        "вернуть k, иначе строку “It is impossible”. Написать тесты для кода"
      ]
    },
    {
      "cell_type": "code",
      "execution_count": 11,
      "metadata": {
        "id": "3YPjEXxhX_YT"
      },
      "outputs": [
        {
          "name": "stdout",
          "output_type": "stream",
          "text": [
            "4\n",
            "5\n",
            "It is impossible\n",
            "1\n"
          ]
        }
      ],
      "source": [
        "def pyramid(number):\n",
        "    sum = 0\n",
        "    k = 1\n",
        "    while sum < number:\n",
        "        sum += k**2\n",
        "        if sum == number:\n",
        "            return k\n",
        "        k += 1\n",
        "    return \"It is impossible\"\n",
        "\n",
        "print(pyramid(30))\n",
        "print(pyramid(55))\n",
        "print(pyramid(33))\n",
        "print(pyramid(1))"
      ]
    },
    {
      "cell_type": "markdown",
      "metadata": {
        "id": "KeKgmIdAQMEJ"
      },
      "source": [
        "# Задача 8\n",
        "Функция принимает на вход положительное число и определяет является ли оно сбалансированным, т.е. сумма цифр до средних равна сумме цифр после. Средними в случае нечетного числа цифр считать одну цифру, в случае четного - две средних. Написать тесты для кода"
      ]
    },
    {
      "cell_type": "code",
      "execution_count": 19,
      "metadata": {
        "id": "gMAAqtqlQrZt"
      },
      "outputs": [
        {
          "name": "stdout",
          "output_type": "stream",
          "text": [
            "True\n",
            "False\n",
            "True\n",
            "True\n",
            "False\n"
          ]
        }
      ],
      "source": [
        "def is_balance_number(n):\n",
        "    number_str = str(n)\n",
        "    length = len(number_str)\n",
        "    if length % 2 == 0:\n",
        "        midle1 = length // 2 - 1\n",
        "        midle2 = length // 2\n",
        "    else:\n",
        "        midle1 = midle2 = length // 2\n",
        "    before = sum(map(int, number_str[:midle1 + 1]))\n",
        "    after = sum(map(int, number_str[midle2:]))\n",
        "    return before == after\n",
        "\n",
        "print(is_balance_number(121))\n",
        "print(is_balance_number(122))\n",
        "print(is_balance_number(1221))\n",
        "print(is_balance_number(1))\n",
        "print(is_balance_number(12345))\n"
      ]
    }
  ],
  "metadata": {
    "colab": {
      "provenance": []
    },
    "kernelspec": {
      "display_name": "Python 3",
      "name": "python3"
    },
    "language_info": {
      "codemirror_mode": {
        "name": "ipython",
        "version": 3
      },
      "file_extension": ".py",
      "mimetype": "text/x-python",
      "name": "python",
      "nbconvert_exporter": "python",
      "pygments_lexer": "ipython3",
      "version": "3.12.2"
    }
  },
  "nbformat": 4,
  "nbformat_minor": 0
}
